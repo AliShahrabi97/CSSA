{
 "cells": [
  {
   "cell_type": "code",
   "execution_count": 1,
   "metadata": {},
   "outputs": [],
   "source": [
    "import numpy as np\n",
    "import pandas as pd\n",
    "import glob\n",
    "import os\n",
    "\n",
    "import matplotlib.pyplot as plt\n",
    "from numba import njit , prange\n",
    "from matplotlib.colors import TwoSlopeNorm\n",
    "import progressbar\n",
    "import hints\n",
    "from itertools import permutations\n",
    "import matplotlib.gridspec as gridspec\n",
    "import matplotlib\n",
    "from matplotlib.ticker import AutoMinorLocator\n",
    "from scipy.io import loadmat\n",
    "import glob\n",
    "import imageio.v2 as imageio\n",
    "import scipy"
   ]
  },
  {
   "cell_type": "code",
   "execution_count": 2,
   "metadata": {},
   "outputs": [],
   "source": [
    "from jitcsde import jitcsde, y, t\n"
   ]
  },
  {
   "cell_type": "code",
   "execution_count": 3,
   "metadata": {},
   "outputs": [],
   "source": [
    "def KMC_ABC(x,dt,N,M,mode,method):\n",
    "    \n",
    "    # if method=='abolfazl':\n",
    "    #     x, y = caly(x, N)\n",
    "    #     Dcoeffs, ind, col = calD1coef(x, y, dt, N, M, mode)\n",
    "    # elif method=='hints':\n",
    "    #     calulator = hints.kmcc(ts_array=np.swapaxes(x,0,1), dt=dt, interaction_order=M, estimation_mode='drift')\n",
    "    #     Dcoeffs = calulator.get_coefficients()  \n",
    "    # elif method=='hints2' or method=='amin':   \n",
    "    #     Dcoeffs = kmc(np.swapaxes(x,0,1), dt=dt, order=[1,2,3], mode='drift', **{'window_order':5, 'solver':'both', 'threshold':1e-15})   # 0\n",
    "    # else:\n",
    "    #     raise ValueError(\"Method options are: 'abolfazl', 'hints', 'hints2' \")\n",
    "\n",
    "    calulator = hints.kmcc(ts_array=np.swapaxes(x,0,1), dt=dt, interaction_order=M, estimation_mode='drift')\n",
    "    Dcoeffs = calulator.get_coefficients()\n",
    "    Dcoeffs = np.swapaxes(Dcoeffs.to_numpy(), 0, 1)\n",
    "\n",
    "    Constant = np.zeros(N)\n",
    "    A = np.zeros((N, N))        \n",
    "    B = np.zeros((N, N, N))    \n",
    "    C = np.zeros((N, N, N, N))  \n",
    "\n",
    "    \n",
    "    num_first_order = N\n",
    "    num_second_order = int(N * (N + 1) / 2)\n",
    "    num_third_order = int(N * (N + 1) * (N + 2) / 6)\n",
    "\n",
    "    \n",
    "    if 0 in M:  \n",
    "        Constant[:] = Dcoeffs[:, 0]\n",
    "        A[:, :] = Dcoeffs[:, 1:N+1]  \n",
    "    else:\n",
    "        A[:, :] = Dcoeffs[:, :N]     \n",
    "    \n",
    "    \n",
    "    if 2 in M:  \n",
    "        if 0 in M:\n",
    "            counter = num_first_order + 1\n",
    "        else:    \n",
    "            counter = num_first_order\n",
    "        for i in range(N):\n",
    "            for j in range(i, N):\n",
    "                for idx in set(permutations((i, j))): B[:, idx[0], idx[1]] = Dcoeffs[:, counter]\n",
    "                counter += 1\n",
    "\n",
    "    if 3 in M:  \n",
    "        if 0 in M:\n",
    "            counter = num_first_order + num_second_order + 1\n",
    "        else:\n",
    "            counter = num_first_order + num_second_order\n",
    "        for i in range(N):\n",
    "            for j in range(i, N):\n",
    "                for k in range(j, N):\n",
    "                    for idx in set(permutations((i, j, k))): C[:, idx[0], idx[1], idx[2]] = Dcoeffs[:, counter]\n",
    "                    counter += 1\n",
    "\n",
    "    return Constant, A, B, C, Dcoeffs\n",
    "\n",
    "def KMC_ABC_overtime(data,win,ol,N,M,mode,dt,tstart,zmean,uvar,method):\n",
    "    dx=win*(100-ol)/100\n",
    "    n_win=int((data.shape[1]-win)/dx+1)\n",
    "    alleval=[]\n",
    "    allevec=[]\n",
    "    allcons=np.zeros((n_win,N))\n",
    "    alla=np.zeros((n_win,N,N))\n",
    "    allb=np.zeros((n_win,N,N,N))\n",
    "    allc=np.zeros((n_win,N,N,N,N))\n",
    "    alldcoefllist=[]\n",
    "    t=int(win/2+tstart)\n",
    "    tlist=[]\n",
    "    ii=0\n",
    "    tarray=np.arange(int(win / 2 + tstart), int(data.shape[1] - win / 2), dx)\n",
    "\n",
    "    # bar = progressbar.ProgressBar(maxval=len(tarray),  redirect_stdout=True,  redirect_stderr=True, widgets=[progressbar.Bar('=', '[', ']'), ' ', progressbar.Percentage()])\n",
    "    # bar.start()\n",
    "\n",
    "\n",
    "    for t in tarray:\n",
    "        tlist.append(t)\n",
    "        start=int(t-win/2)\n",
    "        end=int(t+win/2)\n",
    "        x=np.zeros((N,win))\n",
    "        x[:,:]=data[:,start:end]\n",
    "\n",
    "        for i in range(N):\n",
    "            if zmean==True:\n",
    "                x[i,:]=x[i,:]-np.mean(x[i,:])\n",
    "            if uvar==True:\n",
    "                x[i,:]=x[i,:]/np.std(x[i,:])\n",
    "\n",
    "        cons, A, B, C, Dcoeffs=KMC_ABC(x,dt,N,M,mode,method)\n",
    "        allcons[ii,:]=cons[:]\n",
    "        alla[ii,:,:]=A[:,:]\n",
    "        allb[ii,:,:,:]=B[:,:,:]\n",
    "        allc[ii,:,:,:,:]=C[:,:,:,:]\n",
    "        alldcoefllist.append(Dcoeffs)\n",
    "        \n",
    "        w, v = np.linalg.eig(A)\n",
    "        alleval.append(w)\n",
    "        allevec.append(v)\n",
    "        ii+=1\n",
    "    #     bar.update(ii)\n",
    "    # bar.finish()\n",
    "\n",
    "    alldcoefllist=np.array(alldcoefllist)\n",
    "    alleval=np.array(alleval)\n",
    "    allevec=np.array(allevec)\n",
    "\n",
    "\n",
    "    return tlist, allcons, alla, allb, allc, alldcoefllist, alleval, allevec"
   ]
  },
  {
   "cell_type": "code",
   "execution_count": 6,
   "metadata": {},
   "outputs": [
    {
     "data": {
      "text/plain": [
       "(10, 5000001)"
      ]
     },
     "execution_count": 6,
     "metadata": {},
     "output_type": "execute_result"
    }
   ],
   "source": [
    "data_L10_8 = np.load(\"C:/Users/alish/Desktop/exploring stability project/Power Grids/Power Grid Abolfazl/Power Grid/Lorenz96_10D Data & Coef/Lorenz96_10D_noise0.7_dt0.005_F8.npy\")\n",
    "data_L10_8.shape\n"
   ]
  },
  {
   "cell_type": "code",
   "execution_count": 11,
   "metadata": {},
   "outputs": [],
   "source": [
    "dt=0.005\n",
    "N=10\n",
    "M=[0, 1, 2]\n",
    "mode='list'\n",
    "win=50000\n",
    "ol=0\n",
    "tstart=0\n",
    "zmean=False\n",
    "uvar=False\n",
    "method='hints'\n",
    "tlist, allcons_L10_8, alla_L10_8, allb_L10_8, allc, alldcoefllist, alleval, allevec=KMC_ABC_overtime(data_L10_8,win,ol,N,M,mode,dt,tstart,zmean,uvar,method)\n",
    "np.save(f\"Lorenz96_10D_L10_8_A_win={win}_overlap={ol}_mean={zmean}_unitvar={uvar}.npy\", alla_L10_8)\n",
    "np.save(f\"Lorenz96_10D_L10_8_B_win={win}_overlap={ol}_mean={zmean}_unitvar={uvar}.npy\", allb_L10_8)\n",
    "np.save(f\"Lorenz96_10D_L10_8_Const_win={win}_overlap={ol}_mean={zmean}_unitvar={uvar}.npy\", allcons_L10_8)"
   ]
  },
  {
   "cell_type": "code",
   "execution_count": 12,
   "metadata": {},
   "outputs": [],
   "source": [
    "A_L10_8_all = np.load(\"C:/Users/alish/Desktop/exploring stability project/Power Grids/Power Grid Abolfazl/Power Grid/Lorenz96_10D Data & Coef/Lorenz96_10D_L10_8_A_win=50000_overlap=0_mean=False_unitvar=False.npy\")\n",
    "B_L10_8_all = np.load(\"C:/Users/alish/Desktop/exploring stability project/Power Grids/Power Grid Abolfazl/Power Grid/Lorenz96_10D Data & Coef/Lorenz96_10D_L10_8_B_win=50000_overlap=0_mean=False_unitvar=False.npy\")\n",
    "\n",
    "Const_L10_8_all = np.load(\"C:/Users/alish/Desktop/exploring stability project/Power Grids/Power Grid Abolfazl/Power Grid/Lorenz96_10D Data & Coef/Lorenz96_10D_L10_8_Const_win=50000_overlap=0_mean=False_unitvar=False.npy\")\n"
   ]
  },
  {
   "cell_type": "code",
   "execution_count": 15,
   "metadata": {},
   "outputs": [
    {
     "name": "stdout",
     "output_type": "stream",
     "text": [
      "100\n",
      "(100, 10)\n"
     ]
    }
   ],
   "source": [
    "win_num = len(Const_L10_8_all)\n",
    "print(win_num)\n",
    "print(Const_L10_8_all.shape)\n"
   ]
  },
  {
   "cell_type": "code",
   "execution_count": 30,
   "metadata": {},
   "outputs": [],
   "source": [
    "from scipy import stats\n",
    "\n",
    "def MeanWithCutoff_Apply(win_los, M):\n",
    "    win_num = len(M)\n",
    "    M_new = np.copy(M[win_los:win_num])\n",
    "    M_mean = np.mean(M_new, axis=0)\n",
    "    M_std = np.std(M_new, axis=0, ddof=1)\n",
    "    M_cut = np.copy(M_mean)\n",
    "    M_cut[(abs(M_mean) < stats.t.ppf(0.95, win_num-win_los)*abs(M_std/np.sqrt(win_num-win_los)))] = 0\n",
    "    return M_cut\n",
    "\n",
    "def MedianWithCutoff_Apply(win_los, M):\n",
    "    win_num = len(M)\n",
    "    M_new = np.copy(M[win_los:win_num])\n",
    "    M_median = np.median(M_new, axis=0)\n",
    "    M_std = np.std(M_new, axis=0, ddof=1)\n",
    "    M_cut = np.copy(M_median)\n",
    "    M_cut[(abs(M_median) < stats.t.ppf(0.95, win_num-win_los)*abs(M_std/np.sqrt(win_num-win_los)))] = 0\n",
    "    return M_cut\n"
   ]
  },
  {
   "cell_type": "code",
   "execution_count": 31,
   "metadata": {},
   "outputs": [],
   "source": [
    "from jitcsde import jitcsde, y, t\n",
    "def jit_equation_0_3(Const, A, B, C):\n",
    "    n = A.shape[0]\n",
    "    eq = []\n",
    "    for i in range(n):\n",
    "        eq.append(Const[i] + sum(A[i,j] * y(j) for j in range(n)) + sum(B[i,j,k] * y(j) * y(k) for j in range(n) for k in range(j,n)) + sum(C[i,j,k,l] * y(j) * y(k) * y(l) for j in range(n) for k in range(j,n) for l in range(j,k,n)))\n",
    "    return eq\n",
    "\n",
    "\n",
    "from jitcsde import jitcsde, y, t\n",
    "def jit_equation_0_2(Const, A, B):\n",
    "    n = A.shape[0]\n",
    "    eq = []\n",
    "    for i in range(n):\n",
    "        eq.append(Const[i] + sum(A[i,j] * y(j) for j in range(n)) + sum(B[i,j,k] * y(j) * y(k) for j in range(n) for k in range(j,n)))\n",
    "    return eq\n",
    "\n",
    "\n"
   ]
  },
  {
   "cell_type": "code",
   "execution_count": 23,
   "metadata": {},
   "outputs": [],
   "source": [
    "def save_equations_to_tt(equations, filename):\n",
    "    with open(filename, 'w') as f:\n",
    "        for i, eq in enumerate(equations):\n",
    "            # f.write(f\"Equation {i+1}:\\n\")\n",
    "            f.write(str(eq))\n",
    "            f.write(\"\\n\\n\")"
   ]
  },
  {
   "cell_type": "code",
   "execution_count": 32,
   "metadata": {},
   "outputs": [
    {
     "data": {
      "text/plain": [
       "[8.19461536052336 + 0.00326025481126608*y(0)*y(1) + 0.005136139017728*y(0)*y(2) + 0.00380532964935848*y(0)*y(3) + 0.00162628022496527*y(0)*y(4) - 0.00108546219558691*y(0)*y(5) + 0.0014388164972734*y(0)*y(6) - 0.00334543445163754*y(0)*y(7) - 0.00254555371611417*y(0)*y(8) - 0.0071901799318943*y(0)*y(9) - 0.00130308583747179*y(1)*y(5) - 0.00259276337904868*y(1)*y(8) + 0.998632089387608*y(1)*y(9) - 0.00141357226202825*y(2)*y(8) + 0.00405706487235998*y(2)*y(9) - 0.00114604646375569*y(3)*y(5) + 0.00224216558947586*y(3)*y(8) + 0.00189387505333487*y(3)*y(9) + 0.00109239619775094*y(4)*y(5) + 0.00438874429495593*y(6)*y(8) + 0.00381781169674266*y(7)*y(6) + 0.00167887102769595*y(9)*y(6) - 1.00008165433188*y(9)*y(8) + 0.00348481946689238*y(0)**2 + 0.00290925649468928*y(1)**2 + 0.00092503752292039*y(2)**2 + 0.00242610740155571*y(7)**2 + 0.00653756961532309*y(8)**2 - 0.00675542198141316*y(9)**2 - 1.09017419755054*y(0) - 0.01415338899855*y(1) - 0.0264734475487377*y(2) - 0.0159199895413493*y(3) - 0.0197815906477455*y(6) - 0.034306772411003*y(8) + 0.0345464189220939*y(9),\n",
       " 8.08931860676107 - 0.00934677091998679*y(0)*y(1) + 0.999344662224171*y(0)*y(2) + 0.0029368381118465*y(0)*y(3) - 0.00102816470580535*y(0)*y(5) + 0.00109145250743179*y(0)*y(7) - 1.00133456170327*y(0)*y(9) + 0.00652660230204883*y(1)*y(3) + 0.00224154150020376*y(1)*y(5) + 0.00265984735722386*y(1)*y(7) - 0.00308062588495598*y(1)*y(8) + 0.00183497627449322*y(2)*y(1) - 0.00366407944355669*y(2)*y(9) + 0.000766382458380486*y(3)*y(7) - 0.00161218540409559*y(3)*y(9) + 0.00270303882694156*y(4)*y(1) + 0.00181569933726433*y(4)*y(5) - 0.00125005228931163*y(4)*y(6) + 0.00261846158468169*y(4)*y(9) + 0.00225921011489596*y(7)*y(8) + 0.00486362334602628*y(7)*y(9) - 0.0060185944147028*y(0)**2 + 0.00503629930208886*y(1)**2 + 0.00370612439051774*y(2)**2 + 0.00165640927426465*y(3)**2 + 0.00107067063771709*y(5)**2 - 0.00102259471644441*y(6)**2 + 0.000932815741909871*y(7)**2 + 0.00417099023806204*y(8)**2 + 0.00665667232809051*y(9)**2 + 0.049215814032914*y(0) - 1.09606108094582*y(1) - 0.0158783511671943*y(2) - 0.0260715414335763*y(3) - 0.0178365232033457*y(4) - 0.0163481673406164*y(5) + 0.0122500932725308*y(6) - 0.0272151558546258*y(7) - 0.0126867451549942*y(8) - 0.0351021341958824*y(9),\n",
       " 8.17719763595664 - 1.00009364222382*y(0)*y(1) - 0.00254972576066674*y(0)*y(2) - 0.00274000102565189*y(0)*y(3) - 0.00171961636174855*y(0)*y(4) + 0.00127628771966337*y(0)*y(5) + 0.00447223645574217*y(0)*y(8) + 0.998391960107294*y(1)*y(3) + 0.00179035347194547*y(1)*y(5) + 0.00117447120091103*y(1)*y(7) + 0.00141250193535941*y(1)*y(8) + 0.00141893268165042*y(1)*y(9) - 0.00887768846166167*y(2)*y(1) + 0.00330048755262377*y(2)*y(3) + 0.00542572523282372*y(2)*y(4) + 0.00382603935535043*y(2)*y(5) + 0.0014928180192471*y(2)*y(6) + 0.0011041542582078*y(2)*y(8) - 0.0032517298530512*y(2)*y(9) + 0.00142185669801795*y(3)*y(5) + 0.003464926276994*y(4)*y(1) + 0.00107280142611033*y(7)*y(6) + 0.00163646949580845*y(9)*y(8) + 0.00645834226972508*y(0)**2 - 0.0059369957347853*y(1)**2 + 0.00432385189523282*y(2)**2 + 0.00385807031708926*y(3)**2 + 0.00104099583647127*y(4)**2 + 0.000843179441554067*y(5)**2 + 0.00386184638460545*y(9)**2 - 0.0313757859395759*y(0) + 0.0307724986083208*y(1) - 1.09085361516107*y(2) - 0.0234589907250964*y(3) - 0.0207253957072759*y(4) - 0.0264385778695692*y(5) - 0.0137961249393594*y(6) - 0.0206397652898811*y(8) - 0.0221388017365228*y(9),\n",
       " 8.11274843205974 - 0.00261985189410406*y(0)*y(3) - 0.0012281592587087*y(0)*y(7) - 0.00105496680924965*y(0)*y(8) + 0.00263290470882316*y(0)*y(9) - 0.00221952937744958*y(1)*y(3) - 0.00108707157238415*y(1)*y(5) + 0.00207553979814048*y(1)*y(6) + 0.00492110148210879*y(1)*y(9) - 0.999739436192359*y(2)*y(1) - 0.00863207953406439*y(2)*y(3) + 0.997667346037411*y(2)*y(4) + 0.00343940932388297*y(2)*y(5) + 0.00693993379127361*y(3)*y(5) + 0.00504580906133063*y(3)*y(6) + 0.00235701166530146*y(3)*y(7) + 0.00183603743346287*y(3)*y(9) - 0.00415269088468299*y(4)*y(1) + 0.00269994480499256*y(4)*y(3) + 0.00201676123481651*y(7)*y(5) - 0.00102390292228068*y(8)*y(5) + 0.00113528041527875*y(9)*y(5) - 0.00127008675572432*y(9)*y(8) + 0.00266395925737978*y(0)**2 + 0.00615487856940691*y(1)**2 - 0.00617731848000667*y(2)**2 + 0.00468276993045277*y(3)**2 + 0.00292363555800432*y(4)**2 + 0.00234040958779153*y(5)**2 + 0.000704856517216575*y(7)**2 + 0.00109865051066014*y(9)**2 - 0.0285585336994469*y(1) + 0.0460537457148781*y(2) - 1.104924322738*y(3) - 0.00860363290248411*y(4) - 0.0367744754074621*y(5) - 0.0200532598782056*y(6) + 0.0170969365676301*y(8) - 0.0207795983615705*y(9),\n",
       " 8.16078304302328 + 0.00323850364385831*y(0)*y(1) + 0.00388655664773116*y(0)*y(2) + 0.00172214321084021*y(0)*y(3) + 0.00258281883220854*y(0)*y(4) + 0.00145341515003473*y(0)*y(6) - 0.00148101567519852*y(1)*y(8) + 0.00158693410534103*y(2)*y(1) - 0.999457195356841*y(2)*y(3) - 0.00249560000877052*y(2)*y(4) - 0.00274107019818881*y(2)*y(5) + 0.00201490122941599*y(2)*y(7) + 0.997952802077883*y(3)*y(5) + 0.00303229815274745*y(3)*y(6) + 0.00128132406354467*y(3)*y(7) - 0.0010413519776008*y(3)*y(8) - 0.00350762805364294*y(4)*y(1) - 0.00726848252331935*y(4)*y(3) + 0.00334403862677063*y(4)*y(5) + 0.00694388919311198*y(4)*y(6) + 0.00400335063961234*y(4)*y(7) + 0.00226973038994187*y(4)*y(8) + 0.00198994003501419*y(6)*y(8) + 0.000960630339057706*y(7)*y(6) + 0.0031119732963515*y(1)**2 + 0.0060892657753957*y(2)**2 - 0.006643593657051*y(3)**2 + 0.00410116690209224*y(4)**2 + 0.00320802487636476*y(5)**2 + 0.00223570918586613*y(6)**2 - 0.0262534846454737*y(0) - 0.0389278561957722*y(2) + 0.0420955718943091*y(3) - 1.10033457410827*y(4) - 0.0173122661330413*y(5) - 0.0368992631003908*y(6) - 0.0168605764140052*y(7) - 0.0106217589564274*y(8),\n",
       " 8.18154922815165 - 0.000994025735093169*y(0)*y(5) - 0.000894420193279126*y(0)*y(9) + 0.00308272254495876*y(1)*y(3) + 0.00256603048155855*y(1)*y(5) + 0.000789050193245674*y(1)*y(7) + 0.00286111391521401*y(2)*y(1) - 0.0034595814710727*y(2)*y(5) - 0.00196977676219962*y(3)*y(5) - 0.00313420169693116*y(3)*y(6) - 0.00203217964179291*y(3)*y(7) + 0.00236585884034457*y(3)*y(8) + 0.00123879908317835*y(4)*y(1) - 1.00026128631094*y(4)*y(3) - 0.00696903581683464*y(4)*y(5) + 0.997573413233757*y(4)*y(6) + 0.00375706685911591*y(4)*y(7) + 0.00158980387349323*y(4)*y(8) - 0.00133668429667908*y(4)*y(9) + 0.00277528494865976*y(6)*y(5) + 0.00561043673686166*y(7)*y(5) + 0.0010743774608296*y(7)*y(6) + 0.00269913923622754*y(8)*y(5) + 0.00254093916950605*y(9)*y(5) + 0.00102827921531745*y(1)**2 + 0.00295760623636815*y(2)**2 + 0.00480920933742368*y(3)**2 - 0.00709916666957638*y(4)**2 + 0.00359040304541698*y(5)**2 + 0.00282373158302398*y(6)**2 + 0.000700724340369624*y(7)**2 - 0.0256159715085769*y(1) - 0.0215896882861804*y(3) + 0.0452859023223255*y(4) - 1.09434738102774*y(5) - 0.0115057225152972*y(6) - 0.0241451670798137*y(7) - 0.0194574134644536*y(8),\n",
       " 8.09986147143141 - 0.00151671065962215*y(0)*y(5) + 0.00196170423647397*y(0)*y(6) - 0.00107175640925879*y(0)*y(7) - 0.00104902290844078*y(1)*y(6) + 0.00423649731275082*y(2)*y(3) + 0.00378366854194418*y(2)*y(4) + 0.00102717815273076*y(2)*y(5) + 0.00267675374544159*y(2)*y(6) + 0.00115770048621085*y(2)*y(8) - 0.00312900886586113*y(3)*y(6) + 0.00100292797873844*y(4)*y(3) - 0.999436707527514*y(4)*y(5) - 0.00146485805505499*y(4)*y(6) - 0.00413284467584625*y(4)*y(7) - 0.00157102840721903*y(4)*y(8) + 0.00157785149112221*y(4)*y(9) - 0.0074034089324072*y(6)*y(5) + 0.00535941781310734*y(6)*y(8) + 0.999462995279727*y(7)*y(5) + 0.00196292728765976*y(7)*y(6) + 0.002259898791858*y(8)*y(5) + 0.00126580444166097*y(9)*y(5) + 0.00348650134806572*y(9)*y(6) + 0.000771632365334597*y(1)**2 + 0.000888780706027578*y(2)**2 + 0.00287456729251676*y(3)**2 + 0.00509801319294376*y(4)**2 - 0.00645165888948416*y(5)**2 + 0.00415087058408934*y(6)**2 + 0.003463100335051*y(7)**2 + 0.00073094753855352*y(8)**2 - 0.0282799260147091*y(2) - 0.0117682342242416*y(3) - 0.0237873488229765*y(4) + 0.0416082243429203*y(5) - 1.09250874021838*y(6) - 0.00971532142571186*y(7) - 0.0144258590795947*y(8) - 0.0120565490299598*y(9),\n",
       " 8.15259231122744 + 0.00183918796092842*y(0)*y(5) + 0.00123988837080518*y(0)*y(6) + 0.00420158178099802*y(0)*y(7) + 0.00128066466896122*y(0)*y(9) - 0.00120463127810209*y(1)*y(6) + 0.00257997026295851*y(1)*y(7) + 0.00134415759330847*y(1)*y(9) + 0.00128301525457918*y(2)*y(1) - 0.00113705985809551*y(2)*y(7) + 0.00386884657699454*y(3)*y(5) + 0.00189492662733932*y(3)*y(7) - 0.000961507781866269*y(3)*y(8) + 0.00107014646515909*y(3)*y(9) - 0.00197311210166614*y(4)*y(1) + 0.00286032187846464*y(4)*y(3) - 0.00247886892106609*y(4)*y(7) - 1.00023215514696*y(6)*y(5) + 0.997902365809779*y(6)*y(8) - 0.00222351732284166*y(7)*y(5) - 0.00743623638004641*y(7)*y(6) + 0.00303680764560265*y(7)*y(8) + 0.00629521802560736*y(7)*y(9) - 0.0031982962155032*y(8)*y(5) - 0.00158068823252073*y(9)*y(5) + 0.00344626636465355*y(9)*y(6) + 0.000631772344125323*y(0)**2 + 0.00317136215181235*y(4)**2 + 0.00597011917840238*y(5)**2 - 0.00717611742872195*y(6)**2 + 0.00419648114702344*y(7)**2 + 0.00264902522069787*y(8)**2 + 0.00108219441511915*y(9)**2 - 0.0240932462288234*y(0) + 0.0114023192146862*y(2) - 0.0145556119990756*y(3) - 0.0117249617721094*y(4) - 0.0274308496061504*y(5) + 0.047604070606741*y(6) - 1.10422425568863*y(7) - 0.029160798611596*y(9),\n",
       " 8.12498497751539 + 0.00108163221083497*y(0)*y(4) - 0.00183709548787645*y(0)*y(6) + 0.00366920747486946*y(0)*y(7) + 0.00554908220481373*y(0)*y(8) + 0.00178004544574361*y(1)*y(6) + 0.00337632386514805*y(1)*y(8) - 0.00140656808460753*y(2)*y(7) + 0.00193901928706298*y(2)*y(8) + 0.00241212290411119*y(4)*y(5) + 0.00383479417699686*y(4)*y(6) + 0.000939269670282611*y(4)*y(7) + 0.00199361418399132*y(4)*y(8) - 0.00196842997580148*y(6)*y(8) - 1.0004586758612*y(7)*y(6) - 0.00711056067460409*y(7)*y(8) + 0.997975675556273*y(7)*y(9) - 0.00186014894289063*y(8)*y(5) - 0.00303691051761895*y(9)*y(6) + 0.00202833708765957*y(9)*y(8) + 0.00137312070673012*y(0)**2 + 0.00282526665786684*y(5)**2 + 0.00608123973431753*y(6)**2 - 0.00643166109200658*y(7)**2 + 0.00389873211913*y(8)**2 + 0.00345019180350502*y(9)**2 - 0.0277142427283402*y(0) - 0.0122012049404971*y(1) - 0.013463098403324*y(4) - 0.0238846937724191*y(6) + 0.0440514119307855*y(7) - 1.0992201588905*y(8) - 0.0105163076692059*y(9),\n",
       " 8.11592653485708 - 0.00107047045391315*y(0)*y(5) - 0.00247082895129695*y(0)*y(7) + 0.997726922663231*y(0)*y(8) + 0.00394270484165768*y(0)*y(9) - 0.00211661081121127*y(1)*y(7) + 0.00352742069006722*y(1)*y(8) + 0.00622484348693717*y(1)*y(9) - 0.00108216424238463*y(2)*y(5) + 0.00139755097078517*y(2)*y(7) + 0.00206116886743607*y(2)*y(8) + 0.00308364221393379*y(2)*y(9) + 0.00137484558062144*y(3)*y(9) - 0.000800992768282042*y(4)*y(1) + 0.000829231792606265*y(4)*y(8) - 0.00114810258990057*y(4)*y(9) + 0.00224767047748977*y(6)*y(5) + 0.0036952240499622*y(7)*y(5) - 0.999085083957906*y(7)*y(8) - 0.00274320975310903*y(7)*y(9) + 0.00142720162440985*y(8)*y(5) + 0.00230863094453315*y(9)*y(5) - 0.00324441568139195*y(9)*y(6) - 0.00758784884291392*y(9)*y(8) + 0.00312593813045968*y(0)**2 + 0.00159195358634827*y(1)**2 + 0.00374458596592116*y(6)**2 + 0.00571292647001757*y(7)**2 - 0.00603558246255252*y(8)**2 + 0.00368225863658229*y(9)**2 - 0.0227103698478787*y(0) - 0.0233283388484062*y(1) - 0.0199508751748849*y(2) - 0.0172553600297726*y(5) - 0.0130831690168872*y(6) - 0.022242253118881*y(7) + 0.0277630606643399*y(8) - 1.09015304434979*y(9)]"
      ]
     },
     "execution_count": 32,
     "metadata": {},
     "output_type": "execute_result"
    }
   ],
   "source": [
    "jit_eq = jit_equation_0_2(MeanWithCutoff_Apply(2, Const_L10_8_all )  , MeanWithCutoff_Apply(2, A_L10_8_all), MeanWithCutoff_Apply(2, B_L10_8_all))\n",
    "jit_eq\n",
    "# str(jit_eq) \n"
   ]
  },
  {
   "cell_type": "code",
   "execution_count": 33,
   "metadata": {},
   "outputs": [],
   "source": [
    "with open(\"jit_equations_L10_8.txt\", 'w') as f:\n",
    "    f.write(str(jit_eq))"
   ]
  },
  {
   "cell_type": "code",
   "execution_count": null,
   "metadata": {},
   "outputs": [],
   "source": []
  }
 ],
 "metadata": {
  "kernelspec": {
   "display_name": "Python 3",
   "language": "python",
   "name": "python3"
  },
  "language_info": {
   "codemirror_mode": {
    "name": "ipython",
    "version": 3
   },
   "file_extension": ".py",
   "mimetype": "text/x-python",
   "name": "python",
   "nbconvert_exporter": "python",
   "pygments_lexer": "ipython3",
   "version": "3.10.11"
  }
 },
 "nbformat": 4,
 "nbformat_minor": 2
}
