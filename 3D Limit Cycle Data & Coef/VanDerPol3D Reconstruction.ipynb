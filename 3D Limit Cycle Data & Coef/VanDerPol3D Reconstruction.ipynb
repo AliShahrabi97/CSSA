{
 "cells": [
  {
   "cell_type": "code",
   "execution_count": 1,
   "metadata": {},
   "outputs": [],
   "source": [
    "import numpy as np\n",
    "import pandas as pd\n",
    "import glob\n",
    "import os\n",
    "\n",
    "import matplotlib.pyplot as plt\n",
    "from numba import njit , prange\n",
    "from matplotlib.colors import TwoSlopeNorm\n",
    "import progressbar\n",
    "import hints\n",
    "from itertools import permutations\n",
    "import matplotlib.gridspec as gridspec\n",
    "import matplotlib\n",
    "from matplotlib.ticker import AutoMinorLocator\n",
    "from scipy.io import loadmat\n",
    "import glob\n",
    "import imageio.v2 as imageio\n",
    "import scipy"
   ]
  },
  {
   "cell_type": "code",
   "execution_count": 2,
   "metadata": {},
   "outputs": [],
   "source": [
    "from jitcsde import jitcsde, y, t\n"
   ]
  },
  {
   "cell_type": "code",
   "execution_count": 9,
   "metadata": {},
   "outputs": [],
   "source": [
    "def KMC_ABC(x,dt,N,M,mode,method):\n",
    "    \n",
    "    # if method=='abolfazl':\n",
    "    #     x, y = caly(x, N)\n",
    "    #     Dcoeffs, ind, col = calD1coef(x, y, dt, N, M, mode)\n",
    "    # elif method=='hints':\n",
    "    #     calulator = hints.kmcc(ts_array=np.swapaxes(x,0,1), dt=dt, interaction_order=M, estimation_mode='drift')\n",
    "    #     Dcoeffs = calulator.get_coefficients()  \n",
    "    # elif method=='hints2' or method=='amin':   \n",
    "    #     Dcoeffs = kmc(np.swapaxes(x,0,1), dt=dt, order=[1,2,3], mode='drift', **{'window_order':5, 'solver':'both', 'threshold':1e-15})   # 0\n",
    "    # else:\n",
    "    #     raise ValueError(\"Method options are: 'abolfazl', 'hints', 'hints2' \")\n",
    "\n",
    "    calulator = hints.kmcc(ts_array=np.swapaxes(x,0,1), dt=dt, interaction_order=M, estimation_mode='drift')\n",
    "    Dcoeffs = calulator.get_coefficients()\n",
    "    Dcoeffs = np.swapaxes(Dcoeffs.to_numpy(), 0, 1)\n",
    "\n",
    "    Constant = np.zeros(N)\n",
    "    A = np.zeros((N, N))        \n",
    "    B = np.zeros((N, N, N))    \n",
    "    C = np.zeros((N, N, N, N))  \n",
    "\n",
    "    \n",
    "    num_first_order = N\n",
    "    num_second_order = int(N * (N + 1) / 2)\n",
    "    num_third_order = int(N * (N + 1) * (N + 2) / 6)\n",
    "\n",
    "    \n",
    "    if 0 in M:  \n",
    "        Constant[:] = Dcoeffs[:, 0]\n",
    "        A[:, :] = Dcoeffs[:, 1:N+1]  \n",
    "    else:\n",
    "        A[:, :] = Dcoeffs[:, :N]     \n",
    "    \n",
    "    \n",
    "    if 2 in M:  \n",
    "        if 0 in M:\n",
    "            counter = num_first_order + 1\n",
    "        else:    \n",
    "            counter = num_first_order\n",
    "        for i in range(N):\n",
    "            for j in range(i, N):\n",
    "                for idx in set(permutations((i, j))): B[:, idx[0], idx[1]] = Dcoeffs[:, counter]\n",
    "                counter += 1\n",
    "\n",
    "    if 3 in M:  \n",
    "        if 0 in M:\n",
    "            counter = num_first_order + num_second_order + 1\n",
    "        else:\n",
    "            counter = num_first_order + num_second_order\n",
    "        for i in range(N):\n",
    "            for j in range(i, N):\n",
    "                for k in range(j, N):\n",
    "                    for idx in set(permutations((i, j, k))): C[:, idx[0], idx[1], idx[2]] = Dcoeffs[:, counter]\n",
    "                    counter += 1\n",
    "\n",
    "    return Constant, A, B, C, Dcoeffs\n",
    "\n",
    "def KMC_ABC_overtime(data,win,ol,N,M,mode,dt,tstart,zmean,uvar,method):\n",
    "    dx=win*(100-ol)/100\n",
    "    n_win=int((data.shape[1]-win)/dx+1)\n",
    "    alleval=[]\n",
    "    allevec=[]\n",
    "    allcons=np.zeros((n_win,N))\n",
    "    alla=np.zeros((n_win,N,N))\n",
    "    allb=np.zeros((n_win,N,N,N))\n",
    "    allc=np.zeros((n_win,N,N,N,N))\n",
    "    alldcoefllist=[]\n",
    "    t=int(win/2+tstart)\n",
    "    tlist=[]\n",
    "    ii=0\n",
    "    tarray=np.arange(int(win / 2 + tstart), int(data.shape[1] - win / 2), dx)\n",
    "\n",
    "    # bar = progressbar.ProgressBar(maxval=len(tarray),  redirect_stdout=True,  redirect_stderr=True, widgets=[progressbar.Bar('=', '[', ']'), ' ', progressbar.Percentage()])\n",
    "    # bar.start()\n",
    "\n",
    "\n",
    "    for t in tarray:\n",
    "        tlist.append(t)\n",
    "        start=int(t-win/2)\n",
    "        end=int(t+win/2)\n",
    "        x=np.zeros((N,win))\n",
    "        x[:,:]=data[:,start:end]\n",
    "\n",
    "        for i in range(N):\n",
    "            if zmean==True:\n",
    "                x[i,:]=x[i,:]-np.mean(x[i,:])\n",
    "            if uvar==True:\n",
    "                x[i,:]=x[i,:]/np.std(x[i,:])\n",
    "\n",
    "        cons, A, B, C, Dcoeffs=KMC_ABC(x,dt,N,M,mode,method)\n",
    "        allcons[ii,:]=cons[:]\n",
    "        alla[ii,:,:]=A[:,:]\n",
    "        allb[ii,:,:,:]=B[:,:,:]\n",
    "        allc[ii,:,:,:,:]=C[:,:,:,:]\n",
    "        alldcoefllist.append(Dcoeffs)\n",
    "        \n",
    "        w, v = np.linalg.eig(A)\n",
    "        alleval.append(w)\n",
    "        allevec.append(v)\n",
    "        ii+=1\n",
    "    #     bar.update(ii)\n",
    "    # bar.finish()\n",
    "\n",
    "    alldcoefllist=np.array(alldcoefllist)\n",
    "    alleval=np.array(alleval)\n",
    "    allevec=np.array(allevec)\n",
    "\n",
    "\n",
    "    return tlist, allcons, alla, allb, allc, alldcoefllist, alleval, allevec"
   ]
  },
  {
   "cell_type": "code",
   "execution_count": 18,
   "metadata": {},
   "outputs": [
    {
     "data": {
      "text/plain": [
       "(3, 5000001)"
      ]
     },
     "execution_count": 18,
     "metadata": {},
     "output_type": "execute_result"
    }
   ],
   "source": [
    "data_1 = np.load(\"C:/Users/alish/Desktop/exploring stability project/Power Grids/Power Grid Abolfazl/Power Grid/3D Limit Cycle Data & Coef/VanDerPol3D_noise0.1_dt0.005_mu1_alpha0.1_beta0.5.npy\")\n",
    "data_1.shape\n"
   ]
  },
  {
   "cell_type": "code",
   "execution_count": 12,
   "metadata": {},
   "outputs": [],
   "source": [
    "dt=0.005\n",
    "N=3\n",
    "M=[0, 1, 2, 3]\n",
    "mode='list'\n",
    "win=50000\n",
    "ol=0\n",
    "tstart=0\n",
    "zmean=False\n",
    "uvar=False\n",
    "method='hints'\n",
    "tlist, allcons_pol1, alla_pol1, allb_pol1, allc_pol1, alldcoefllist, alleval, allevec=KMC_ABC_overtime(data_1,win,ol,N,M,mode,dt,tstart,zmean,uvar,method)\n",
    "np.save(f\"VanDerPol3D_Pol1_A_win={win}_overlap={ol}_mean={zmean}_unitvar={uvar}.npy\", alla_pol1)\n",
    "np.save(f\"VanDerPol3D_Pol1_B_win={win}_overlap={ol}_mean={zmean}_unitvar={uvar}.npy\", allb_pol1)\n",
    "np.save(f\"VanDerPol3D_Pol1_C_win={win}_overlap={ol}_mean={zmean}_unitvar={uvar}.npy\", allc_pol1)\n",
    "np.save(f\"VanDerPol3D_Pol1_Const_win={win}_overlap={ol}_mean={zmean}_unitvar={uvar}.npy\", allcons_pol1)"
   ]
  },
  {
   "cell_type": "code",
   "execution_count": 4,
   "metadata": {},
   "outputs": [],
   "source": [
    "A_pol1_all = np.load(\"C:/Users/alish/Desktop/exploring stability project/Power Grids/Power Grid Abolfazl/Power Grid/3D Limit Cycle Data & Coef/VanDerPol3D_Pol1_A_win=50000_overlap=0_mean=False_unitvar=False.npy\")\n",
    "B_pol1_all = np.load(\"C:/Users/alish/Desktop/exploring stability project/Power Grids/Power Grid Abolfazl/Power Grid/3D Limit Cycle Data & Coef/VanDerPol3D_Pol1_B_win=50000_overlap=0_mean=False_unitvar=False.npy\")\n",
    "C_pol1_all = np.load(\"C:/Users/alish/Desktop/exploring stability project/Power Grids/Power Grid Abolfazl/Power Grid/3D Limit Cycle Data & Coef/VanDerPol3D_Pol1_C_win=50000_overlap=0_mean=False_unitvar=False.npy\")\n",
    "\n",
    "Const_pol1_all = np.load(\"C:/Users/alish/Desktop/exploring stability project/Power Grids/Power Grid Abolfazl/Power Grid/3D Limit Cycle Data & Coef/VanDerPol3D_Pol1_Const_win=50000_overlap=0_mean=False_unitvar=False.npy\")\n"
   ]
  },
  {
   "cell_type": "code",
   "execution_count": 18,
   "metadata": {},
   "outputs": [
    {
     "name": "stdout",
     "output_type": "stream",
     "text": [
      "100\n"
     ]
    }
   ],
   "source": [
    "win_num = len(Const_pol1_all)\n",
    "print(win_num)\n"
   ]
  },
  {
   "cell_type": "code",
   "execution_count": 35,
   "metadata": {},
   "outputs": [],
   "source": [
    "from scipy import stats\n",
    "\n",
    "def MeanWithCutoff_Apply(win_los, M):\n",
    "    win_num = len(M)\n",
    "    M_new = np.copy(M[win_los:win_num])\n",
    "    M_mean = np.mean(M_new, axis=0)\n",
    "    M_std = np.std(M_new, axis=0, ddof=1)\n",
    "    M_cut = np.copy(M_mean)\n",
    "    M_cut[(abs(M_mean) < stats.t.ppf(0.995, win_num-win_los)*abs(M_std/np.sqrt(win_num-win_los)))] = 0\n",
    "    return M_cut\n",
    "\n",
    "def MedianWithCutoff_Apply(win_los, M):\n",
    "    win_num = len(M)\n",
    "    M_new = np.copy(M[win_los:win_num])\n",
    "    M_median = np.median(M_new, axis=0)\n",
    "    M_std = np.std(M_new, axis=0, ddof=1)\n",
    "    M_cut = np.copy(M_median)\n",
    "    M_cut[(abs(M_median) < stats.t.ppf(0.995, win_num-win_los)*abs(M_std/np.sqrt(win_num-win_los)))] = 0\n",
    "    return M_cut\n"
   ]
  },
  {
   "cell_type": "code",
   "execution_count": 31,
   "metadata": {},
   "outputs": [],
   "source": [
    "from jitcsde import jitcsde, y, t\n",
    "def jit_equation_0_3(Const, A, B, C):\n",
    "    n = A.shape[0]\n",
    "    eq = []\n",
    "    for i in range(n):\n",
    "        eq.append(Const[i] + sum(A[i,j] * y(j) for j in range(n)) + sum(B[i,j,k] * y(j) * y(k) for j in range(n) for k in range(j,n)) + sum(C[i,j,k,l] * y(j) * y(k) * y(l) for j in range(n) for k in range(j,n) for l in range(j,k,n)))\n",
    "    return eq\n",
    "\n"
   ]
  },
  {
   "cell_type": "code",
   "execution_count": 33,
   "metadata": {},
   "outputs": [
    {
     "data": {
      "text/plain": [
       "[-0.00319190381187527*y(0)**2*y(2) + 0.00923229048701736*y(0) + 0.992553776158531*y(1) + 0.0296052977837912*y(2),\n",
       " -0.00495228795753415 - 0.0011487624483629*y(0)*y(1) - 0.998839498895175*y(0)**2*y(1) + 0.0104999748812881*y(0)**2*y(2) + 0.000878736597937811*y(0)**2 - 0.991326488254312*y(0) + 1.03188412711359*y(1) + 0.939161929625077*y(2),\n",
       " 0.00543115755012909 - 0.000917400599954498*y(0)*y(1) + 0.00246155446189248*y(0)*y(2) - 0.50328932147701*y(0) - 0.107205835491253*y(2)]"
      ]
     },
     "execution_count": 33,
     "metadata": {},
     "output_type": "execute_result"
    }
   ],
   "source": [
    "jit_equation_0_3(MeanWithCutoff_Apply(2, Const_pol1_all )  , MeanWithCutoff_Apply(2, A_pol1_all), MeanWithCutoff_Apply(2, B_pol1_all), MeanWithCutoff_Apply(2, C_pol1_all))"
   ]
  },
  {
   "cell_type": "code",
   "execution_count": 34,
   "metadata": {},
   "outputs": [
    {
     "data": {
      "text/plain": [
       "[-0.00123634821914874*y(0)*y(1) - 0.00159538149647737*y(0)**2*y(1) - 0.00554247452067*y(0)**2*y(2) + 0.992543769658547*y(1) + 0.0390127437906627*y(2),\n",
       " -0.000966846500266367*y(0)*y(1) + 0.00129822070015778*y(0)*y(2) - 0.998430345943723*y(0)**2*y(1) + 0.00927980218206652*y(0)**2*y(2) - 0.00694317879882183*y(2)*y(1)**2 + 0.00326011619002192*y(2)**2 - 0.989701912572132*y(0) + 1.03408718913802*y(1) + 0.937584058830492*y(2),\n",
       " 0.00397723718367502*y(0)*y(2) - 0.00527758800403302*y(2)*y(1)**2 - 0.50041578240764*y(0) - 0.0974447031880908*y(2)]"
      ]
     },
     "execution_count": 34,
     "metadata": {},
     "output_type": "execute_result"
    }
   ],
   "source": [
    "jit_equation_0_3(MedianWithCutoff_Apply(2, Const_pol1_all )  , MedianWithCutoff_Apply(2, A_pol1_all), MedianWithCutoff_Apply(2, B_pol1_all), MedianWithCutoff_Apply(2, C_pol1_all))"
   ]
  },
  {
   "cell_type": "code",
   "execution_count": 36,
   "metadata": {},
   "outputs": [
    {
     "data": {
      "text/plain": [
       "True"
      ]
     },
     "execution_count": 36,
     "metadata": {},
     "output_type": "execute_result"
    }
   ],
   "source": [
    "(1 < 2)"
   ]
  },
  {
   "cell_type": "code",
   "execution_count": 5,
   "metadata": {},
   "outputs": [],
   "source": [
    "folder_path = os.getcwd()"
   ]
  },
  {
   "cell_type": "code",
   "execution_count": 17,
   "metadata": {},
   "outputs": [],
   "source": [
    "pd.read_csv(f'{folder_path}\\\\Amin-Real-9D.csv');"
   ]
  },
  {
   "cell_type": "code",
   "execution_count": 28,
   "metadata": {},
   "outputs": [],
   "source": [
    "def KMC_df_overtime(data,win,ol,N,M,estimation_mode,dt,tstart,zmean,uvar):\n",
    "    dx=win*(100-ol)/100\n",
    "    # n_win=int((data.shape[1]-win)/dx+1)\n",
    "    alldcoefllist=[]\n",
    "    t=int(win/2+tstart)\n",
    "    tlist=[]\n",
    "    # ii=0\n",
    "    tarray=np.arange(int(win / 2 + tstart), int(data.shape[1] - win / 2), dx)\n",
    "\n",
    "    # bar = progressbar.ProgressBar(maxval=len(tarray),  redirect_stdout=True,  redirect_stderr=True, widgets=[progressbar.Bar('=', '[', ']'), ' ', progressbar.Percentage()])\n",
    "    # bar.start()\n",
    "\n",
    "\n",
    "    for t in tarray:\n",
    "        tlist.append(t)\n",
    "        start=int(t-win/2)\n",
    "        end=int(t+win/2)\n",
    "        x=np.zeros((N,win))\n",
    "        x[:,:]=data[:,start:end]\n",
    "\n",
    "        for i in range(N):\n",
    "            if zmean==True:\n",
    "                x[i,:]=x[i,:]-np.mean(x[i,:])\n",
    "            if uvar==True:\n",
    "                x[i,:]=x[i,:]/np.std(x[i,:])\n",
    "        \n",
    "\n",
    "        calulator = hints.kmcc(ts_array=np.swapaxes(x,0,1),\n",
    "                                dt=dt, interaction_order=M, estimation_mode=estimation_mode)\n",
    "        Dcoeffs = calulator.get_coefficients()\n",
    "\n",
    "        alldcoefllist.append(Dcoeffs)\n",
    "        # ii+=1\n",
    "    #     bar.update(ii)\n",
    "    # bar.finish()\n",
    "\n",
    "    # alldcoefllist=np.array(alldcoefllist)\n",
    "    # alleval=np.array(alleval)\n",
    "    # allevec=np.array(allevec)\n",
    "\n",
    "\n",
    "    return tlist, alldcoefllist"
   ]
  },
  {
   "cell_type": "code",
   "execution_count": 29,
   "metadata": {},
   "outputs": [],
   "source": [
    "dt=0.005\n",
    "M=[0, 1, 2, 3]\n",
    "N=3\n",
    "estimation_mode='drift'\n",
    "win=50000\n",
    "ol=0\n",
    "tstart=0\n",
    "zmean=False\n",
    "uvar=False\n",
    "tlist, alldcoefllist = KMC_df_overtime(data_1,win,ol,N,M,estimation_mode,dt,tstart,zmean,uvar)"
   ]
  },
  {
   "cell_type": "code",
   "execution_count": 42,
   "metadata": {},
   "outputs": [],
   "source": [
    "mean_coefs = np.mean(np.array(alldcoefllist), axis=0)"
   ]
  },
  {
   "cell_type": "code",
   "execution_count": 50,
   "metadata": {},
   "outputs": [
    {
     "data": {
      "text/plain": [
       "Index(['1', 'x1', 'x2', 'x3', 'x1x1', 'x1x2', 'x1x3', 'x2x2', 'x2x3', 'x3x3',\n",
       "       'x1x1x1', 'x1x1x2', 'x1x1x3', 'x1x2x2', 'x1x2x3', 'x1x3x3', 'x2x2x2',\n",
       "       'x2x2x3', 'x2x3x3', 'x3x3x3'],\n",
       "      dtype='object')"
      ]
     },
     "execution_count": 50,
     "metadata": {},
     "output_type": "execute_result"
    }
   ],
   "source": [
    "(alldcoefllist[0].index)"
   ]
  },
  {
   "cell_type": "code",
   "execution_count": 43,
   "metadata": {},
   "outputs": [],
   "source": [
    "mean_coefs_df = pd.DataFrame(mean_coefs, index=alldcoefllist[0].index, columns=alldcoefllist[0].columns)"
   ]
  },
  {
   "cell_type": "code",
   "execution_count": 47,
   "metadata": {},
   "outputs": [
    {
     "name": "stdout",
     "output_type": "stream",
     "text": [
      "Mean DataFrame shape: (20, 3)\n",
      "\n",
      "First few rows of mean DataFrame:\n",
      "               0         1         2\n",
      "1       0.000846 -0.004839  0.004952\n",
      "x1      0.009121 -0.990263 -0.503267\n",
      "x2      0.993092  1.030073 -0.001146\n",
      "x3      0.028087  0.942990 -0.104228\n",
      "x1x1   -0.000403  0.000836 -0.000672\n",
      "x1x2   -0.000419 -0.001154 -0.000759\n",
      "x1x3    0.000342  0.000200  0.002211\n",
      "x2x2    0.000104  0.000787 -0.000022\n",
      "x2x3   -0.000537 -0.000774 -0.001224\n",
      "x3x3    0.000580  0.000836  0.000659\n",
      "x1x1x1 -0.002053 -0.000044  0.000649\n",
      "x1x1x2 -0.001179 -0.998551  0.001088\n",
      "x1x1x3 -0.003027  0.009923 -0.000383\n",
      "x1x2x2 -0.000630 -0.011247 -0.000621\n",
      "x1x2x3 -0.000138  0.012838 -0.001869\n",
      "x1x3x3  0.000703 -0.004451  0.002417\n",
      "x2x2x2  0.000232  0.000168  0.000577\n",
      "x2x2x3  0.001558 -0.005989 -0.002105\n",
      "x2x3x3 -0.006082  0.009731  0.005447\n",
      "x3x3x3  0.001054  0.002542 -0.004786\n"
     ]
    }
   ],
   "source": [
    "print(\"Mean DataFrame shape:\", mean_coefs_df.shape)\n",
    "print(\"\\nFirst few rows of mean DataFrame:\")\n",
    "print(mean_coefs_df)"
   ]
  },
  {
   "cell_type": "code",
   "execution_count": null,
   "metadata": {},
   "outputs": [],
   "source": []
  }
 ],
 "metadata": {
  "kernelspec": {
   "display_name": "Python 3",
   "language": "python",
   "name": "python3"
  },
  "language_info": {
   "codemirror_mode": {
    "name": "ipython",
    "version": 3
   },
   "file_extension": ".py",
   "mimetype": "text/x-python",
   "name": "python",
   "nbconvert_exporter": "python",
   "pygments_lexer": "ipython3",
   "version": "3.10.11"
  }
 },
 "nbformat": 4,
 "nbformat_minor": 2
}
